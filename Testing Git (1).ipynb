{
 "cells": [
  {
   "cell_type": "code",
   "execution_count": 1,
   "id": "a2ea4321-e74c-4161-a454-10656cb10773",
   "metadata": {},
   "outputs": [
    {
     "name": "stdout",
     "output_type": "stream",
     "text": [
      "hello world\n"
     ]
    }
   ],
   "source": [
    "print(\"hello world\")"
   ]
  },
  {
   "cell_type": "code",
   "execution_count": 2,
   "id": "1169de32-30fa-4188-bbbd-55d8800f1975",
   "metadata": {},
   "outputs": [
    {
     "name": "stdout",
     "output_type": "stream",
     "text": [
      "can you see this change?\n"
     ]
    }
   ],
   "source": [
    "print(\"can you see this change?\")"
   ]
  },
  {
   "cell_type": "code",
   "execution_count": null,
   "id": "5608c8f2-0abd-4a23-955c-36f03303c33a",
   "metadata": {},
   "outputs": [],
   "source": []
  }
 ],
 "metadata": {
  "kernelspec": {
   "display_name": "Python 3",
   "language": "python",
   "name": "python3"
  },
  "language_info": {
   "codemirror_mode": {
    "name": "ipython",
    "version": 3
   },
   "file_extension": ".py",
   "mimetype": "text/x-python",
   "name": "python",
   "nbconvert_exporter": "python",
   "pygments_lexer": "ipython3",
   "version": "3.9.21"
  }
 },
 "nbformat": 4,
 "nbformat_minor": 5
}
