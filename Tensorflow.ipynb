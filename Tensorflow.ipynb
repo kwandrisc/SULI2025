{
 "cells": [
  {
   "cell_type": "code",
   "execution_count": 3,
   "id": "69614746-67ff-45a5-835d-bfe880665a19",
   "metadata": {},
   "outputs": [
    {
     "name": "stderr",
     "output_type": "stream",
     "text": [
      "2025-07-27 20:50:55.610082: E external/local_xla/xla/stream_executor/cuda/cuda_dnn.cc:9261] Unable to register cuDNN factory: Attempting to register factory for plugin cuDNN when one has already been registered\n",
      "2025-07-27 20:50:55.610111: E external/local_xla/xla/stream_executor/cuda/cuda_fft.cc:607] Unable to register cuFFT factory: Attempting to register factory for plugin cuFFT when one has already been registered\n",
      "2025-07-27 20:50:55.647667: E external/local_xla/xla/stream_executor/cuda/cuda_blas.cc:1515] Unable to register cuBLAS factory: Attempting to register factory for plugin cuBLAS when one has already been registered\n",
      "2025-07-27 20:50:55.727792: I tensorflow/core/platform/cpu_feature_guard.cc:182] This TensorFlow binary is optimized to use available CPU instructions in performance-critical operations.\n",
      "To enable the following instructions: AVX2 FMA, in other operations, rebuild TensorFlow with the appropriate compiler flags.\n",
      "2025-07-27 20:50:58.663545: W tensorflow/compiler/tf2tensorrt/utils/py_utils.cc:38] TF-TRT Warning: Could not find TensorRT\n"
     ]
    }
   ],
   "source": [
    "import yaml\n",
    "from typing import List, Dict\n",
    "from sklearn.model_selection import train_test_split\n",
    "import uproot\n",
    "import os\n",
    "import glob\n",
    "from sklearn import metrics\n",
    "from sklearn.metrics import make_scorer, accuracy_score, roc_auc_score, hinge_loss, confusion_matrix, roc_curve\n",
    "import matplotlib.pyplot as plt\n",
    "import pandas as pd\n",
    "import numpy as np\n",
    "import tensorflow as tf\n",
    "from tensorflow.keras.models import Sequential\n",
    "from tensorflow.keras.layers import Dense, Dropout\n",
    "from tensorflow.keras.optimizers import Adam\n",
    "from tensorflow.keras.callbacks import EarlyStopping\n",
    "from scikeras.wrappers import KerasClassifier\n",
    "from sklearn.model_selection import cross_val_score\n",
    "from sklearn.preprocessing import LabelEncoder\n",
    "from sklearn.model_selection import StratifiedKFold\n",
    "from sklearn.preprocessing import StandardScaler\n",
    "from sklearn.pipeline import Pipeline"
   ]
  },
  {
   "cell_type": "code",
   "execution_count": 2,
   "id": "b8f6475c-c03d-4624-8b13-030d1864c186",
   "metadata": {},
   "outputs": [
    {
     "name": "stdout",
     "output_type": "stream",
     "text": [
      "[PhysicalDevice(name='/physical_device:GPU:0', device_type='GPU')]\n"
     ]
    }
   ],
   "source": [
    "print(tf.config.list_physical_devices('GPU'))"
   ]
  },
  {
   "cell_type": "code",
   "execution_count": 1,
   "id": "2b865658-2f75-43a5-95ed-02f48d73cbe4",
   "metadata": {},
   "outputs": [],
   "source": [
    "class mlpScikitPlotClassifier:\n",
    "    def __init__(self, yaml_file: str): # identifying that the yaml file should be a string\n",
    "        \"\"\"\n",
    "        Initialize with configurations from a YAML file.\n",
    "        :param yaml_file: Path to the YAML configuration file.\n",
    "        \"\"\"\n",
    "        # defining each of the attributes\n",
    "        self.input_paths = None\n",
    "        self.samples = {}\n",
    "        self.variables = []\n",
    "        self.hyperparameters = {}\n",
    "        self.model = None\n",
    "        self.dataframes = {\"background\": None, \"signal\": None}\n",
    "\n",
    "        # calling two of the functions up here, even though only defined below\n",
    "        # can do this bc reads classes all first, then goes through\n",
    "        self._parse_yaml(yaml_file)\n",
    "        self._load_data()\n",
    "\n",
    "    def prepare_gpu(self):\n",
    "        gpus = tf.config.list_physical_devices('GPU')\n",
    "        if gpus:\n",
    "            try:\n",
    "                for gpu in gpus:\n",
    "                    tf.config.experimental.set_memory_growth(gpu, True)\n",
    "                    print(\"Memory growth enabled\")\n",
    "            except RuntimeError as e:\n",
    "                print(\"Memory growth setup failed:\", e)\n",
    "\n",
    "    def _parse_yaml(self, yaml_file: str):\n",
    "        try: # try means that if error happens, it'll go to exception\n",
    "            # use 'with' to make sure that yaml file is closed after it's opened\n",
    "            with open(yaml_file, 'r' ) as file: # telling to read the file and call it \"file\"\n",
    "                config = yaml.safe_load(file)\n",
    "\n",
    "            # defining the attributes from things inside yaml file\n",
    "            self.input_paths = config['input_path']\n",
    "            self.samples[0] = config.get(0, []) # defining first column of samples as those under the key 0 in the yaml file - also, if 0 doesn't exist, return empty list \"[]\"\n",
    "            self.samples[1] = config.get(1, []) # defining second column of samples to be things under key 1 in file\n",
    "            self.variables = config.get('variables', []) # defining variables to be things under key 'variables'\n",
    "\n",
    "        # if error occurs inside the try, will give this formatted error\n",
    "        except Exception as e:\n",
    "            raise ValueError(f\"Error parsing YAML file: {e}\") # f-string that lets you embed variables in string\n",
    "\n",
    "    def _load_data(self):\n",
    "        for sample_type, key in [(\"background\", 0), (\"signal\", 1)]: # iterating this for loop, once for signal, once for background\n",
    "            sample_list = self.samples[key] # calling all the background/signal samples\n",
    "            dataframes = []\n",
    "\n",
    "            for sample in sample_list:\n",
    "                files = glob.glob(os.path.join(f\"{self.input_paths}/{sample}/\", \"*.root\")) # joining the sample with input path and making root file\n",
    "                for file in files: ## why do we need this for loop, if there should only be one file found for each sample?\n",
    "                    self.tree = uproot.open(file)['analysis'] # opening root file and ttree\n",
    "                    variables_with_b_w = self.variables + ['b_w']\n",
    "                    df = self.tree.arrays(variables_with_b_w, library=\"pd\") # turning tree into pd df\n",
    "                    df['sample'] = sample # adding column for sample name\n",
    "                    df['label'] = key # adding column for 0 or 1\n",
    "                    dataframes.append(df) # adding all background df into one list\n",
    "\n",
    "            combined_df = pd.concat(dataframes, ignore_index=True).dropna() # concatinating the list of df into one full df\n",
    "            self.dataframes[sample_type] = combined_df # making the df an attribute, and placing them in dictionary with the key of either signal or background\n",
    "\n",
    "    def print_config(self):\n",
    "        \"\"\"Prints the current configuration.\"\"\"\n",
    "        print(f\"Input Paths: {self.input_paths}\")\n",
    "        print(f\"Samples: {self.samples}\")\n",
    "        print(f\"Variables: {self.variables}\")\n",
    "\n",
    "    def prepare_data(self):\n",
    "        # putting data into sep background and signal df\n",
    "        self.background_df = self.dataframes[\"background\"]\n",
    "        self.signal_df = self.dataframes[\"signal\"]\n",
    "\n",
    "        # computing ratio between sig and back for reweighting when training model\n",
    "        #self.scale = len(background_df) / len(signal_df)\n",
    "\n",
    "        self.combined_df = pd.concat([self.background_df, self.signal_df], ignore_index=True) # combining sig and back df into one df\n",
    "        # splitting df into X and y\n",
    "        self.X = self.combined_df[self.variables]  # Use only the specified variables\n",
    "        self.y = self.combined_df['label']\n",
    "        self.weights = self.combined_df['b_w']\n",
    "\n",
    "        # returning the train/test split so can be used later in class\n",
    "        return train_test_split(self.X, self.y, self.weights, test_size=0.3, random_state=42)\n",
    "\n",
    "    def train_model(self, model_path=\"xgboost_model.json\", importance_plot_path=None): # function parameters with defaults (if don't pass anything when calling function)\n",
    "        self.X_train, self.X_test, self.y_train, self.y_test, b_w_train, b_w_test = self.prepare_data() # defining X and y train/test\n",
    "\n",
    "        # rescaling weights so not always predicting background\n",
    "        # calculating sums \n",
    "        signal_total = b_w_train[self.y_train == 1].sum()\n",
    "        back_total = b_w_train[self.y_train == 0].sum()\n",
    "        # scaling the signal so it's closer to background weight\n",
    "        scale_factor = back_total / signal_total\n",
    "        b_w_train[self.y_train == 1] *= scale_factor\n",
    "        b_w_test[self.y_test == 1] *= scale_factor\n",
    "        \n",
    "        inputShape = len(self.variables)\n",
    "        def create_baseline():\n",
    "            model = Sequential()\n",
    "            model.add(tf.keras.Input(shape=(inputShape,)))\n",
    "            model.add(Dense(256, activation='relu'))\n",
    "            model.add(Dropout(0.3))\n",
    "            model.add(Dense(256, activation='relu'))\n",
    "            model.add(Dense(256, activation='relu'))\n",
    "            model.add(Dense(256, activation='relu'))\n",
    "            model.add(Dense(256, activation='relu'))\n",
    "            model.add(Dense(1, activation='sigmoid'))\n",
    "            model.compile(loss='binary_crossentropy', \n",
    "                          optimizer=Adam(learning_rate=0.000005), \n",
    "                          metrics=[tf.keras.metrics.AUC(name='auc'),'accuracy'])\n",
    "\n",
    "            return model\n",
    "\n",
    "        #estimator = KerasClassifier(model=create_baseline, epochs=20, batch_size=500, verbose=1)\n",
    "        #kfold = StratifiedKFold(n_splits=3, shuffle=True)\n",
    "        #scorer = make_scorer(roc_auc_score, needs_proba=True)\n",
    "        #results = cross_val_score(estimator, self.X_train, self.y_train, cv=kfold, scoring=scorer)\n",
    "        #print(\"Baseline: %.2f%% (%.2f%%)\" % (results.mean()*100, results.std()*100))\n",
    "\n",
    "        early_stop = tf.keras.callbacks.EarlyStopping(monitor='val_loss', patience=5, restore_best_weights=True)\n",
    "        self.nnmodel = create_baseline()\n",
    "        self.full_model = self.nnmodel.fit(self.X_train, \n",
    "                                           self.y_train, \n",
    "                                           sample_weight=b_w_train, \n",
    "                                           epochs=20, \n",
    "                                           batch_size=400, \n",
    "                                           validation_data=(self.X_test, self.y_test), \n",
    "                                           callbacks=[early_stop],\n",
    "                                           verbose=1)\n",
    "    \n",
    "    def plot_nn_score(self, save_path=None):\n",
    "        if not hasattr(self, 'nnmodel'):\n",
    "            raise AttributeError(\"The model has not been trained. Train the model before plotting NN scores.\")\n",
    "        \n",
    "        # Generate scores using the trained model\n",
    "        self.nn_scores = self.nnmodel.predict(self.X_test, batch_size=512).flatten()\n",
    "        \n",
    "        # get AUC score\n",
    "        auc = roc_auc_score(self.y_test, self.nn_scores)\n",
    "        print(f'AUC: {auc:.3f}')\n",
    "\n",
    "        # new df with test set results\n",
    "        test_df = self.X_test.copy()\n",
    "        test_df['Label'] = self.y_test\n",
    "        test_df['nn_score'] = self.nn_scores\n",
    "        \n",
    "        # Separate background and signal\n",
    "        background_scores = test_df[test_df['Label'] == 0]['nn_score'] # selects rows where 'label' = 0, and then from those rows, only takes the 'BDT score' column\n",
    "        signal_scores = test_df[test_df['Label'] == 1]['nn_score']\n",
    "    \n",
    "        # Normalize each group to unity\n",
    "        background_weights = [1 / len(background_scores)] * len(background_scores) if len(background_scores) > 0 else []\n",
    "        signal_weights = [1 / len(signal_scores)] * len(signal_scores) if len(signal_scores) > 0 else []\n",
    "    \n",
    "        # Plot histograms\n",
    "        plt.figure(figsize=(10, 6))\n",
    "        plt.hist(background_scores, bins=50, weights=background_weights, alpha=0.7, label='Background (Label 0)', color='blue')\n",
    "        plt.hist(signal_scores, bins=50, weights=signal_weights, alpha=0.7, label='Signal (Label 1)', color='red')\n",
    "    \n",
    "        plt.xlabel(\"NN Score\")\n",
    "        plt.ylabel(\"Normalized Density\")\n",
    "        plt.title(\"Normalized NN Score Distribution (Background and Signal)\")\n",
    "        plt.legend(loc='best')\n",
    "        plt.tight_layout()\n",
    "    \n",
    "        # Save the plot if a path is provided\n",
    "        if save_path:\n",
    "            plt.savefig(save_path)\n",
    "            print(f\"NN score plot saved to {save_path}\")\n",
    "    \n",
    "        plt.show()\n",
    "\n",
    "    def plot_feature_importance(self, feature_names=None, save_path=None):\n",
    "        # plotting feature importance\n",
    "        plt.figure(figsize=(10, 6))\n",
    "        xgb.plot_importance(self.nnmodel, importance_type='gain')\n",
    "        plt.title(\"Feature Importance by Gain\")\n",
    "        plt.tight_layout()\n",
    "\n",
    "        # if you want to save the feature importance on something\n",
    "        if save_path:\n",
    "            plt.savefig(save_path)\n",
    "            print(f\"Feature importance plot saved to {save_path}\")\n",
    "    \n",
    "        plt.show()\n",
    "\n",
    "    def plot_logloss(self):\n",
    "        \n",
    "        # plotting log loss\n",
    "\n",
    "        plt.figure(figsize=(10,6))\n",
    "        plt.plot(self.full_model.history['loss'], label='Training set')\n",
    "        plt.plot(self.full_model.history['val_loss'], label='Validation set')\n",
    "        plt.xlabel('Epochs')\n",
    "        plt.ylabel('Log Loss')\n",
    "        plt.title('Log Loss for Epochs')\n",
    "        plt.legend()\n",
    "        plt.show()\n",
    "\n",
    "    def plt_confusionmatrix(self):\n",
    "        y_pred_binary = (self.nn_scores > 0.5).astype(int)\n",
    "\n",
    "        confusion_matrix = metrics.confusion_matrix(self.y_test, y_pred_binary)\n",
    "        cm_display = metrics.ConfusionMatrixDisplay(confusion_matrix = confusion_matrix, display_labels = [0, 1])\n",
    "        \n",
    "        cm_display.plot()\n",
    "        plt.show()\n",
    "\n",
    "    def roc_curve(self):\n",
    "        fpr, tpr, thresholds = roc_curve(self.y_test, self.nn_scores)\n",
    "        plt.plot(fpr, tpr)\n",
    "        plt.xlabel('False Positive Rate')\n",
    "        plt.ylabel('True Positive Rate')\n",
    "        plt.title(\"ROC Curve\")\n",
    "        plt.show()"
   ]
  },
  {
   "cell_type": "code",
   "execution_count": 2,
   "id": "7ebbd4a0-9c1c-4170-9e62-ddf70fc8449c",
   "metadata": {},
   "outputs": [
    {
     "ename": "ValueError",
     "evalue": "Error parsing YAML file: name 'yaml' is not defined",
     "output_type": "error",
     "traceback": [
      "\u001b[0;31m---------------------------------------------------------------------------\u001b[0m",
      "\u001b[0;31mNameError\u001b[0m                                 Traceback (most recent call last)",
      "Cell \u001b[0;32mIn[1], line 34\u001b[0m, in \u001b[0;36mmlpScikitPlotClassifier._parse_yaml\u001b[0;34m(self, yaml_file)\u001b[0m\n\u001b[1;32m     33\u001b[0m \u001b[38;5;28;01mwith\u001b[39;00m \u001b[38;5;28mopen\u001b[39m(yaml_file, \u001b[38;5;124m'\u001b[39m\u001b[38;5;124mr\u001b[39m\u001b[38;5;124m'\u001b[39m ) \u001b[38;5;28;01mas\u001b[39;00m file: \u001b[38;5;66;03m# telling to read the file and call it \"file\"\u001b[39;00m\n\u001b[0;32m---> 34\u001b[0m     config \u001b[38;5;241m=\u001b[39m \u001b[43myaml\u001b[49m\u001b[38;5;241m.\u001b[39msafe_load(file)\n\u001b[1;32m     36\u001b[0m \u001b[38;5;66;03m# defining the attributes from things inside yaml file\u001b[39;00m\n",
      "\u001b[0;31mNameError\u001b[0m: name 'yaml' is not defined",
      "\nDuring handling of the above exception, another exception occurred:\n",
      "\u001b[0;31mValueError\u001b[0m                                Traceback (most recent call last)",
      "Cell \u001b[0;32mIn[2], line 1\u001b[0m\n\u001b[0;32m----> 1\u001b[0m nnPlot \u001b[38;5;241m=\u001b[39m \u001b[43mmlpScikitPlotClassifier\u001b[49m\u001b[43m(\u001b[49m\u001b[38;5;124;43m'\u001b[39;49m\u001b[38;5;124;43mnersc.yaml\u001b[39;49m\u001b[38;5;124;43m'\u001b[39;49m\u001b[43m)\u001b[49m\n\u001b[1;32m      2\u001b[0m nnPlot\u001b[38;5;241m.\u001b[39mprepare_gpu()\n\u001b[1;32m      3\u001b[0m nnPlot\u001b[38;5;241m.\u001b[39mtrain_model()\n",
      "Cell \u001b[0;32mIn[1], line 17\u001b[0m, in \u001b[0;36mmlpScikitPlotClassifier.__init__\u001b[0;34m(self, yaml_file)\u001b[0m\n\u001b[1;32m     13\u001b[0m \u001b[38;5;28mself\u001b[39m\u001b[38;5;241m.\u001b[39mdataframes \u001b[38;5;241m=\u001b[39m {\u001b[38;5;124m\"\u001b[39m\u001b[38;5;124mbackground\u001b[39m\u001b[38;5;124m\"\u001b[39m: \u001b[38;5;28;01mNone\u001b[39;00m, \u001b[38;5;124m\"\u001b[39m\u001b[38;5;124msignal\u001b[39m\u001b[38;5;124m\"\u001b[39m: \u001b[38;5;28;01mNone\u001b[39;00m}\n\u001b[1;32m     15\u001b[0m \u001b[38;5;66;03m# calling two of the functions up here, even though only defined below\u001b[39;00m\n\u001b[1;32m     16\u001b[0m \u001b[38;5;66;03m# can do this bc reads classes all first, then goes through\u001b[39;00m\n\u001b[0;32m---> 17\u001b[0m \u001b[38;5;28;43mself\u001b[39;49m\u001b[38;5;241;43m.\u001b[39;49m\u001b[43m_parse_yaml\u001b[49m\u001b[43m(\u001b[49m\u001b[43myaml_file\u001b[49m\u001b[43m)\u001b[49m\n\u001b[1;32m     18\u001b[0m \u001b[38;5;28mself\u001b[39m\u001b[38;5;241m.\u001b[39m_load_data()\n",
      "Cell \u001b[0;32mIn[1], line 44\u001b[0m, in \u001b[0;36mmlpScikitPlotClassifier._parse_yaml\u001b[0;34m(self, yaml_file)\u001b[0m\n\u001b[1;32m     42\u001b[0m \u001b[38;5;66;03m# if error occurs inside the try, will give this formatted error\u001b[39;00m\n\u001b[1;32m     43\u001b[0m \u001b[38;5;28;01mexcept\u001b[39;00m \u001b[38;5;167;01mException\u001b[39;00m \u001b[38;5;28;01mas\u001b[39;00m e:\n\u001b[0;32m---> 44\u001b[0m     \u001b[38;5;28;01mraise\u001b[39;00m \u001b[38;5;167;01mValueError\u001b[39;00m(\u001b[38;5;124mf\u001b[39m\u001b[38;5;124m\"\u001b[39m\u001b[38;5;124mError parsing YAML file: \u001b[39m\u001b[38;5;132;01m{\u001b[39;00me\u001b[38;5;132;01m}\u001b[39;00m\u001b[38;5;124m\"\u001b[39m)\n",
      "\u001b[0;31mValueError\u001b[0m: Error parsing YAML file: name 'yaml' is not defined"
     ]
    }
   ],
   "source": [
    "nnPlot = mlpScikitPlotClassifier('nersc.yaml')\n",
    "nnPlot.prepare_gpu()\n",
    "nnPlot.train_model()\n",
    "nnPlot.plot_nn_score()\n",
    "nnPlot.plot_logloss()"
   ]
  },
  {
   "cell_type": "code",
   "execution_count": 17,
   "id": "c0000285-d39e-4eb1-ab3d-46a9a3259a16",
   "metadata": {},
   "outputs": [
    {
     "data": {
      "image/png": "[encoded data removed]",
      "text/plain": [
       "<Figure size 640x480 with 2 Axes>"
      ]
     },
     "metadata": {},
     "output_type": "display_data"
    },
    {
     "data": {
      "image/png": "[encoded data removed]",
      "text/plain": [
       "<Figure size 640x480 with 1 Axes>"
      ]
     },
     "metadata": {},
     "output_type": "display_data"
    }
   ],
   "source": [
    "nnPlot.plt_confusionmatrix()\n",
    "nnPlot.roc_curve()"
   ]
  },
  {
   "cell_type": "code",
   "execution_count": 4,
   "id": "d7631c3a-2519-43a4-befb-d778d09c4f4e",
   "metadata": {},
   "outputs": [
    {
     "name": "stdout",
     "output_type": "stream",
     "text": [
      "2.15.0\n",
      "GPUs: [PhysicalDevice(name='/physical_device:GPU:0', device_type='GPU')]\n"
     ]
    },
    {
     "name": "stderr",
     "output_type": "stream",
     "text": [
      "2025-07-27 15:28:27.425686: I tensorflow/core/common_runtime/gpu/gpu_device.cc:1929] Created device /job:localhost/replica:0/task:0/device:GPU:0 with 38366 MB memory:  -> device: 0, name: NVIDIA A100-SXM4-40GB, pci bus id: 0000:c1:00.0, compute capability: 8.0\n",
      "2025-07-27 15:28:28.857242: I external/local_xla/xla/service/service.cc:168] XLA service 0x7fa6245d1b10 initialized for platform CUDA (this does not guarantee that XLA will be used). Devices:\n",
      "2025-07-27 15:28:28.857259: I external/local_xla/xla/service/service.cc:176]   StreamExecutor device (0): NVIDIA A100-SXM4-40GB, Compute Capability 8.0\n",
      "2025-07-27 15:28:28.864697: I tensorflow/compiler/mlir/tensorflow/utils/dump_mlir_util.cc:269] disabling MLIR crash reproducer, set env var `MLIR_CRASH_REPRODUCER_DIRECTORY` to enable.\n",
      "2025-07-27 15:28:28.926683: I external/local_xla/xla/stream_executor/cuda/cuda_dnn.cc:454] Loaded cuDNN version 8903\n",
      "WARNING: All log messages before absl::InitializeLog() is called are written to STDERR\n",
      "I0000 00:00:1753655309.014440  657343 device_compiler.h:186] Compiled cluster using XLA!  This line is logged at most once for the lifetime of the process.\n"
     ]
    },
    {
     "name": "stdout",
     "output_type": "stream",
     "text": [
      "32/32 [==============================] - 2s 2ms/step - loss: 0.6935\n"
     ]
    },
    {
     "data": {
      "text/plain": [
       "<keras.src.callbacks.History at 0x7fa7d82e5b80>"
      ]
     },
     "execution_count": 4,
     "metadata": {},
     "output_type": "execute_result"
    }
   ],
   "source": [
    "import tensorflow as tf\n",
    "print(tf.__version__)\n",
    "\n",
    "gpus = tf.config.list_physical_devices('GPU')\n",
    "print(\"GPUs:\", gpus)\n",
    "for gpu in gpus:\n",
    "    tf.config.experimental.set_memory_growth(gpu, True)\n",
    "\n",
    "from tensorflow.keras.models import Sequential\n",
    "from tensorflow.keras.layers import Dense\n",
    "import numpy as np\n",
    "\n",
    "X = np.random.rand(1000, 10).astype('float32')\n",
    "y = np.random.randint(0, 2, size=(1000,)).astype('float32')\n",
    "\n",
    "model = Sequential([\n",
    "    Dense(32, activation='relu', input_shape=(10,)),\n",
    "    Dense(1, activation='sigmoid')\n",
    "])\n",
    "model.compile(optimizer='adam', loss='binary_crossentropy')\n",
    "model.fit(X, y, epochs=1, batch_size=32)\n"
   ]
  }
 ],
 "metadata": {
  "kernelspec": {
   "display_name": "tensorflow-2.15.0",
   "language": "python",
   "name": "tensorflow-2.15.0"
  },
  "language_info": {
   "codemirror_mode": {
    "name": "ipython",
    "version": 3
   },
   "file_extension": ".py",
   "mimetype": "text/x-python",
   "name": "python",
   "nbconvert_exporter": "python",
   "pygments_lexer": "ipython3",
   "version": "3.9.18"
  }
 },
 "nbformat": 4,
 "nbformat_minor": 5
}
